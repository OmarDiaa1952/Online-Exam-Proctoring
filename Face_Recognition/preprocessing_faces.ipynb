{
 "cells": [
  {
   "cell_type": "code",
   "execution_count": 4,
   "id": "309a89ee",
   "metadata": {},
   "outputs": [],
   "source": [
    "from imutils import paths\n",
    "import argparse\n",
    "import pickle\n",
    "import cv2\n",
    "import os\n",
    "import face_recognition"
   ]
  },
  {
   "cell_type": "code",
   "execution_count": 5,
   "id": "4a8c5787",
   "metadata": {},
   "outputs": [],
   "source": [
    "\n",
    "# construct the argument parser and parse the arguments\n",
    "\n",
    "dataset_path = \"OEP database\"\n",
    "\n",
    "folders = os.listdir(dataset_path)\n",
    "#folders = [os.path.join(dataset_path,x) for x in folders]\n"
   ]
  },
  {
   "cell_type": "code",
   "execution_count": 6,
   "id": "b4cf4e96",
   "metadata": {},
   "outputs": [
    {
     "name": "stdout",
     "output_type": "stream",
     "text": [
      "alhashe\n"
     ]
    },
    {
     "ename": "KeyboardInterrupt",
     "evalue": "",
     "output_type": "error",
     "traceback": [
      "\u001b[1;31m---------------------------------------------------------------------------\u001b[0m",
      "\u001b[1;31mKeyboardInterrupt\u001b[0m                         Traceback (most recent call last)",
      "Cell \u001b[1;32mIn [6], line 17\u001b[0m\n\u001b[0;32m     14\u001b[0m \u001b[39mwhile\u001b[39;00m success:\n\u001b[0;32m     15\u001b[0m     \u001b[39m#cv2.imwrite(\"frame%d.jpg\" % count, image)     # save frame as JPEG file\u001b[39;00m\n\u001b[0;32m     16\u001b[0m     frameId \u001b[39m=\u001b[39m \u001b[39mint\u001b[39m(\u001b[39mround\u001b[39m(vidcap\u001b[39m.\u001b[39mget(\u001b[39m1\u001b[39m))) \u001b[39m#current frame number, rounded b/c sometimes you get frame intervals which aren't integers...this adds a little imprecision but is likely good enough\u001b[39;00m\n\u001b[1;32m---> 17\u001b[0m     success,image \u001b[39m=\u001b[39m vidcap\u001b[39m.\u001b[39;49mread()\n\u001b[0;32m     18\u001b[0m     \u001b[39m#print('Read a new frame: ', success)\u001b[39;00m\n\u001b[0;32m     19\u001b[0m     \u001b[39m#count += 1\u001b[39;00m\n\u001b[0;32m     20\u001b[0m     \u001b[39mif\u001b[39;00m frameId \u001b[39m%\u001b[39m multiplier \u001b[39m==\u001b[39m \u001b[39m0\u001b[39m:\n",
      "\u001b[1;31mKeyboardInterrupt\u001b[0m: "
     ]
    }
   ],
   "source": [
    "knownEncodings = list()\n",
    "knownNames = list()\n",
    "for video in folders:\n",
    "    #video = [x for x in os.listdir(subject) if x.find('.avi') != -1][0]\n",
    "    name = video.split(\".\")[0]\n",
    "    print(name)\n",
    "    video = os.path.join(dataset_path,video)\n",
    "    vidcap = cv2.VideoCapture(video)\n",
    "    success,image = vidcap.read()\n",
    "    count = 0\n",
    "    seconds = 60\n",
    "    fps = vidcap.get(cv2.CAP_PROP_FPS) # Gets the frames per second\n",
    "    multiplier = fps * seconds\n",
    "    while success:\n",
    "        #cv2.imwrite(\"frame%d.jpg\" % count, image)     # save frame as JPEG file\n",
    "        frameId = int(round(vidcap.get(1))) #current frame number, rounded b/c sometimes you get frame intervals which aren't integers...this adds a little imprecision but is likely good enough\n",
    "        success,image = vidcap.read()\n",
    "        #print('Read a new frame: ', success)\n",
    "        #count += 1\n",
    "        if frameId % multiplier == 0:\n",
    "            image = cv2.resize(image, (0,0), fx=0.5, fy=0.5)\n",
    "            rgb = cv2.cvtColor(image, cv2.COLOR_BGR2RGB)\n",
    "\n",
    "            # detect the face in each frame \n",
    "            # and return (x,y)-coordinate of the bounding box\n",
    "            boxes = face_recognition.face_locations(rgb, model=\"cnn\")\n",
    "\n",
    "            # compute the face embedding\n",
    "            encodings = face_recognition.face_encodings(rgb, boxes)\n",
    "\n",
    "            # iterate over encodings\n",
    "            # the reason we have to iterate over encoding even it's a single image\n",
    "            # is sometimes one person's face might appear in more than 1 place in the image\n",
    "            # for example, that person is looking at the mirror\n",
    "            for encoding in encodings:\n",
    "                # add each encoding and name to the list\n",
    "                knownEncodings.append(encoding)\n",
    "                knownNames.append(name)\n",
    "\n",
    "    print(name)"
   ]
  },
  {
   "cell_type": "code",
   "execution_count": null,
   "id": "b57c841b",
   "metadata": {},
   "outputs": [],
   "source": [
    "data = {'encodings': knownEncodings, 'names': knownNames}\n",
    "with open('faces_encoded.pickle', 'wb') as file:\n",
    "    file.write(pickle.dumps(data))"
   ]
  }
 ],
 "metadata": {
  "kernelspec": {
   "display_name": "Python 3.10.8 64-bit",
   "language": "python",
   "name": "python3"
  },
  "language_info": {
   "codemirror_mode": {
    "name": "ipython",
    "version": 3
   },
   "file_extension": ".py",
   "mimetype": "text/x-python",
   "name": "python",
   "nbconvert_exporter": "python",
   "pygments_lexer": "ipython3",
   "version": "3.10.8"
  },
  "vscode": {
   "interpreter": {
    "hash": "3cd83ca0367e37c902b1e52e54fd42d94a623651df995f9c27e28a0ae387f0b9"
   }
  }
 },
 "nbformat": 4,
 "nbformat_minor": 5
}
