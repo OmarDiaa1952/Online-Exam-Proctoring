{
 "cells": [
  {
   "cell_type": "code",
   "execution_count": 1,
   "id": "58314c29",
   "metadata": {},
   "outputs": [],
   "source": [
    "from imutils.video import VideoStream\n",
    "import face_recognition\n",
    "import argparse\n",
    "import pickle\n",
    "import cv2\n",
    "import time\n",
    "import imutils"
   ]
  },
  {
   "cell_type": "code",
   "execution_count": 2,
   "id": "432e3b41",
   "metadata": {},
   "outputs": [
    {
     "name": "stdout",
     "output_type": "stream",
     "text": [
      "[INFO] starting video stream...\n"
     ]
    },
    {
     "ename": "KeyboardInterrupt",
     "evalue": "",
     "output_type": "error",
     "traceback": [
      "\u001b[1;31m---------------------------------------------------------------------------\u001b[0m",
      "\u001b[1;31mKeyboardInterrupt\u001b[0m                         Traceback (most recent call last)",
      "Cell \u001b[1;32mIn [2], line 8\u001b[0m\n\u001b[0;32m      5\u001b[0m vs \u001b[39m=\u001b[39m VideoStream(\u001b[39m0\u001b[39m)\u001b[39m.\u001b[39mstart()\n\u001b[0;32m      6\u001b[0m time\u001b[39m.\u001b[39msleep(\u001b[39m2\u001b[39m)\n\u001b[1;32m----> 8\u001b[0m \u001b[39mwhile\u001b[39;00m \u001b[39mTrue\u001b[39;00m:\n\u001b[0;32m      9\u001b[0m     \u001b[39m# get the frame\u001b[39;00m\n\u001b[0;32m     10\u001b[0m     frame \u001b[39m=\u001b[39m vs\u001b[39m.\u001b[39mread()\n\u001b[0;32m     11\u001b[0m     \u001b[39mif\u001b[39;00m(frame \u001b[39mis\u001b[39;00m \u001b[39mnot\u001b[39;00m \u001b[39mNone\u001b[39;00m):\n",
      "\u001b[1;31mKeyboardInterrupt\u001b[0m: "
     ]
    }
   ],
   "source": [
    "with open('faces_encoded.pickle', 'rb') as file:\n",
    "    data = pickle.loads(file.read())\n",
    "\n",
    "print('[INFO] starting video stream...')\n",
    "vs = VideoStream(0).start()\n",
    "time.sleep(2)\n",
    "\n",
    "while True:\n",
    "    # get the frame\n",
    "    frame = vs.read()\n",
    "    if(frame is not None):\n",
    "        rgb = cv2.cvtColor(frame, cv2.COLOR_BGR2RGB)\n",
    "        rgb = imutils.resize(rgb, width=750) # scale down for faster process\n",
    "        r = frame.shape[1] / float(rgb.shape[1]) # get the scale ratio for later use in puting text\n",
    "    \n",
    "    # detech face and get x,y coordinate of the bounding box\n",
    "    # then embed/encode it\n",
    "        print('[INFO] recognizing faces...')\n",
    "        boxes = face_recognition.face_locations(rgb, model='cnn')\n",
    "        encodings = face_recognition.face_encodings(rgb, boxes)\n",
    "    \n",
    "    # initialize the list of names for detected faces\n",
    "        names = list()\n",
    "        \n",
    "        # loop over the encoded faces\n",
    "        for encoding in encodings:\n",
    "            matches = face_recognition.compare_faces(data['encodings'], encoding)\n",
    "            name = 'Unknown'\n",
    "            \n",
    "            # check whether we found a matched face\n",
    "            if True in matches:\n",
    "                # find the indexes of all matched faces then initialize a dict\n",
    "                # to count the total number of times each face was matched\n",
    "                matchedIdxs = [i for i, b in enumerate(matches) if b]\n",
    "                counts = {}\n",
    "                \n",
    "                # loop over matched indexes and count\n",
    "                for i in matchedIdxs:\n",
    "                    name = data['names'][i]\n",
    "                    counts[name] = counts.get(name, 0) + 1\n",
    "                    \n",
    "                # get the name with the most count\n",
    "                name = max(counts, key=counts.get)\n",
    "                \n",
    "            # append the list\n",
    "            names.append(name)\n",
    "            \n",
    "        # iterate over the recognized faces\n",
    "        for ((top, right, bottom, left), name) in zip(boxes, names):\n",
    "            # scale back with the saved ratio\n",
    "            top = int(top*r)\n",
    "            right = int(right*r)\n",
    "            bottom = int(bottom*r)\n",
    "            left = int(left*r)\n",
    "            \n",
    "            cv2.rectangle(frame, (left,top), (right,bottom), (0,255,0), 2)\n",
    "            # in case of text is off the top screen\n",
    "            y = top - 15 if top - 15 > 15 else top + 15\n",
    "            cv2.putText(frame, name, (left, y), cv2.FONT_HERSHEY_SIMPLEX, 0.75, (0,255,0), 2)\n",
    "            \n",
    "        # show the output\n",
    "        cv2.imshow('Frame', frame)\n",
    "        key = cv2.waitKey(1) & 0xFF   \n",
    "        if key == ord('q'):\n",
    "            break\n",
    "    \n",
    "# clean up\n",
    "cv2.destroyAllWindows()\n",
    "vs.stop()"
   ]
  }
 ],
 "metadata": {
  "kernelspec": {
   "display_name": "Python 3.10.8 64-bit",
   "language": "python",
   "name": "python3"
  },
  "language_info": {
   "codemirror_mode": {
    "name": "ipython",
    "version": 3
   },
   "file_extension": ".py",
   "mimetype": "text/x-python",
   "name": "python",
   "nbconvert_exporter": "python",
   "pygments_lexer": "ipython3",
   "version": "3.10.8"
  },
  "vscode": {
   "interpreter": {
    "hash": "3cd83ca0367e37c902b1e52e54fd42d94a623651df995f9c27e28a0ae387f0b9"
   }
  }
 },
 "nbformat": 4,
 "nbformat_minor": 5
}
