{
  "nbformat": 4,
  "nbformat_minor": 0,
  "metadata": {
    "colab": {
      "provenance": []
    },
    "kernelspec": {
      "name": "python3",
      "display_name": "Python 3"
    },
    "language_info": {
      "name": "python"
    },
    "accelerator": "GPU",
    "gpuClass": "standard"
  },
  "cells": [
    {
      "cell_type": "code",
      "execution_count": 51,
      "metadata": {
        "colab": {
          "base_uri": "https://localhost:8080/"
        },
        "id": "12xGz-kDsrup",
        "outputId": "75977390-d38d-4e37-b03f-8120f0e20e25"
      },
      "outputs": [
        {
          "output_type": "stream",
          "name": "stdout",
          "text": [
            "Drive already mounted at /content/drive; to attempt to forcibly remount, call drive.mount(\"/content/drive\", force_remount=True).\n"
          ]
        }
      ],
      "source": [
        "from google.colab import drive\n",
        "drive.mount('/content/drive')"
      ]
    },
    {
      "cell_type": "code",
      "source": [
        "import cv2\n",
        "import numpy as np\n",
        "import matplotlib.pyplot as plt"
      ],
      "metadata": {
        "id": "FkjaS5YYs_gn"
      },
      "execution_count": 52,
      "outputs": []
    },
    {
      "cell_type": "code",
      "source": [
        "from google.colab.patches import cv2_imshow"
      ],
      "metadata": {
        "id": "FE77h-2vvn-n"
      },
      "execution_count": 53,
      "outputs": []
    },
    {
      "cell_type": "code",
      "source": [
        "import os"
      ],
      "metadata": {
        "id": "D_mQIvKqtAaY"
      },
      "execution_count": 54,
      "outputs": []
    },
    {
      "cell_type": "code",
      "source": [
        "from tqdm import tqdm"
      ],
      "metadata": {
        "id": "tDezClEK6eLA"
      },
      "execution_count": 55,
      "outputs": []
    },
    {
      "cell_type": "code",
      "source": [
        "parent_path = \"/content/drive/MyDrive/Grad Faces\""
      ],
      "metadata": {
        "id": "lFWdYkCstQ0O"
      },
      "execution_count": 56,
      "outputs": []
    },
    {
      "cell_type": "code",
      "source": [
        "photos_folder = os.listdir(\"/content/drive/MyDrive/Grad Faces\")"
      ],
      "metadata": {
        "id": "bIoGxyUJtBg1"
      },
      "execution_count": 57,
      "outputs": []
    },
    {
      "cell_type": "code",
      "source": [
        "photos_folder = [\"1802932\",\"1804904\",\"1805862\",\"1806837\",\"1807346\",\"1808283\",\"1808714\",\"1809252\"]"
      ],
      "metadata": {
        "id": "w_kUAQL73gxf"
      },
      "execution_count": 58,
      "outputs": []
    },
    {
      "cell_type": "code",
      "source": [
        "face_cascade = cv2.CascadeClassifier(cv2.data.haarcascades +'haarcascade_frontalface_alt.xml')\n",
        "side_cascade = cv2.CascadeClassifier(cv2.data.haarcascades +\"haarcascade_profileface.xml\")"
      ],
      "metadata": {
        "id": "E0RULOzb37D3"
      },
      "execution_count": 59,
      "outputs": []
    },
    {
      "cell_type": "code",
      "source": [
        "overall_path = \"/content/drive/MyDrive/Grad Faces/Overall\""
      ],
      "metadata": {
        "id": "jspcC29o5JuB"
      },
      "execution_count": 60,
      "outputs": []
    },
    {
      "cell_type": "code",
      "source": [
        "classes_path = os.path.join(overall_path,'labels',f'classes.txt')\n",
        "with open(classes_path,'w') as f:\n",
        "  f.write(\"\\n\".join(photos_folder))"
      ],
      "metadata": {
        "id": "FbH_tYGG6XHw"
      },
      "execution_count": 61,
      "outputs": []
    },
    {
      "cell_type": "code",
      "source": [
        "for folder in tqdm(photos_folder):\n",
        "  test_folder = os.path.join(parent_path,folder,\"data\")\n",
        "  counter = 0\n",
        "  for i,photo in enumerate(os.listdir(test_folder)):\n",
        "    photo_path = os.path.join(test_folder,photo)\n",
        "    save_path = os.path.join(overall_path,'images',f'{folder}_{counter+1}.jpg')\n",
        "    label_path = os.path.join(overall_path,'labels',f'{folder}_{counter+1}.txt')\n",
        "    if os.path.exists(label_path):\n",
        "      continue\n",
        "    img = cv2.imread(photo_path)\n",
        "    try:\n",
        "      img_size = [img.shape[0],img.shape[1]]\n",
        "    except:\n",
        "      pass\n",
        "    try:\n",
        "      gray = cv2.cvtColor(img, cv2.COLOR_BGR2GRAY)\n",
        "    except:\n",
        "      continue\n",
        "    # detects faces in the input image\n",
        "    faces = face_cascade.detectMultiScale(gray, 1.1, 2)\n",
        "    if len(faces)==0:\n",
        "      faces = side_cascade.detectMultiScale(gray, 1.1, 2)\n",
        "    #img_size = [img.shape[0],img.shape[1]]\n",
        "    if len(faces)>0:\n",
        "      (x,y,w,h) = faces[0]\n",
        "      x_min = x\n",
        "      y_min = y\n",
        "      x_max = x+w\n",
        "      y_max = y+h\n",
        "      x_center = float((x_min + x_max)) / 2 / img_size[1]\n",
        "      y_center = float((y_min + y_max)) / 2 / img_size[0]\n",
        "\n",
        "      w = float((x_max - x_min)) / img_size[1]\n",
        "      h = float((y_max - y_min)) / img_size[0]\n",
        "      coords = [1, x_center, y_center, w, h]\n",
        "      coords_str = \" \".join([str(x) for x in coords])\n",
        "      with open(label_path,'w') as f:\n",
        "        f.write(coords_str)\n",
        "      cv2.imwrite(save_path, img)\n",
        "      counter += 1"
      ],
      "metadata": {
        "colab": {
          "base_uri": "https://localhost:8080/"
        },
        "id": "f_TjuKoytQUz",
        "outputId": "7c340bc3-439a-44bf-973f-2b72c4c2ca58"
      },
      "execution_count": 62,
      "outputs": [
        {
          "output_type": "stream",
          "name": "stderr",
          "text": [
            "100%|██████████| 8/8 [1:24:23<00:00, 632.91s/it] \n"
          ]
        }
      ]
    }
  ]
}